{
  "cells": [
    {
      "cell_type": "markdown",
      "metadata": {
        "id": "Eg62Pmz3o83v"
      },
      "source": [
        "*Note: You are currently reading this using Google Colaboratory which is a cloud-hosted version of Jupyter Notebook. This is a document containing both text cells for documentation and runnable code cells. If you are unfamiliar with Jupyter Notebook, watch this 3-minute introduction before starting this challenge: https://www.youtube.com/watch?v=inN8seMm7UI*\n",
        "\n",
        "---\n",
        "\n",
        "In this challenge, you need to create a machine learning model that will classify SMS messages as either \"ham\" or \"spam\". A \"ham\" message is a normal message sent by a friend. A \"spam\" message is an advertisement or a message sent by a company.\n",
        "\n",
        "You should create a function called `predict_message` that takes a message string as an argument and returns a list. The first element in the list should be a number between zero and one that indicates the likeliness of \"ham\" (0) or \"spam\" (1). The second element in the list should be the word \"ham\" or \"spam\", depending on which is most likely.\n",
        "\n",
        "For this challenge, you will use the [SMS Spam Collection dataset](http://www.dt.fee.unicamp.br/~tiago/smsspamcollection/). The dataset has already been grouped into train data and test data.\n",
        "\n",
        "The first two cells import the libraries and data. The final cell tests your model and function. Add your code in between these cells.\n"
      ]
    },
    {
      "cell_type": "code",
      "execution_count": null,
      "metadata": {
        "id": "8RZOuS9LWQvv"
      },
      "outputs": [],
      "source": [
        "# import libraries\n",
        "try:\n",
        "  # %tensorflow_version only exists in Colab.\n",
        "  !pip install tf-nightly\n",
        "except Exception:\n",
        "  pass\n",
        "import tensorflow as tf\n",
        "import pandas as pd\n",
        "from tensorflow import keras\n",
        "!pip install tensorflow-datasets\n",
        "import tensorflow_datasets as tfds\n",
        "import numpy as np\n",
        "import matplotlib.pyplot as plt\n",
        "from tensorflow.keras.preprocessing.text import Tokenizer\n",
        "from tensorflow.keras.preprocessing.sequence import pad_sequences\n",
        "print(tf.__version__)"
      ]
    },
    {
      "cell_type": "markdown",
      "source": [
        "Import Data"
      ],
      "metadata": {
        "id": "xM7YAGjSXcMg"
      }
    },
    {
      "cell_type": "code",
      "execution_count": 50,
      "metadata": {
        "id": "lMHwYXHXCar3",
        "colab": {
          "base_uri": "https://localhost:8080/"
        },
        "outputId": "7afac2ac-f45c-483f-ec3f-4335573d6c1a"
      },
      "outputs": [
        {
          "output_type": "stream",
          "name": "stdout",
          "text": [
            "--2022-04-13 16:55:03--  https://cdn.freecodecamp.org/project-data/sms/train-data.tsv\n",
            "Resolving cdn.freecodecamp.org (cdn.freecodecamp.org)... 172.67.70.149, 104.26.2.33, 104.26.3.33, ...\n",
            "Connecting to cdn.freecodecamp.org (cdn.freecodecamp.org)|172.67.70.149|:443... connected.\n",
            "HTTP request sent, awaiting response... 200 OK\n",
            "Length: 358233 (350K) [text/tab-separated-values]\n",
            "Saving to: ‘train-data.tsv.1’\n",
            "\n",
            "train-data.tsv.1    100%[===================>] 349.84K  --.-KB/s    in 0.03s   \n",
            "\n",
            "2022-04-13 16:55:03 (10.6 MB/s) - ‘train-data.tsv.1’ saved [358233/358233]\n",
            "\n",
            "--2022-04-13 16:55:03--  https://cdn.freecodecamp.org/project-data/sms/valid-data.tsv\n",
            "Resolving cdn.freecodecamp.org (cdn.freecodecamp.org)... 172.67.70.149, 104.26.2.33, 104.26.3.33, ...\n",
            "Connecting to cdn.freecodecamp.org (cdn.freecodecamp.org)|172.67.70.149|:443... connected.\n",
            "HTTP request sent, awaiting response... 200 OK\n",
            "Length: 118774 (116K) [text/tab-separated-values]\n",
            "Saving to: ‘valid-data.tsv.1’\n",
            "\n",
            "valid-data.tsv.1    100%[===================>] 115.99K  --.-KB/s    in 0.02s   \n",
            "\n",
            "2022-04-13 16:55:04 (5.11 MB/s) - ‘valid-data.tsv.1’ saved [118774/118774]\n",
            "\n"
          ]
        },
        {
          "output_type": "execute_result",
          "data": {
            "text/plain": [
              "array([1, 1, 1, ..., 0, 0, 1])"
            ]
          },
          "metadata": {},
          "execution_count": 50
        }
      ],
      "source": [
        "# get data files\n",
        "!wget https://cdn.freecodecamp.org/project-data/sms/train-data.tsv\n",
        "!wget https://cdn.freecodecamp.org/project-data/sms/valid-data.tsv\n",
        "\n",
        "train_file_path = \"train-data.tsv\"\n",
        "test_file_path = \"valid-data.tsv\"\n",
        "\n",
        "train_dataset = pd.read_csv('train-data.tsv',sep='\\t', header=None,on_bad_lines='skip')\n",
        "test_dataset = pd.read_csv('train-data.tsv',sep='\\t', header=None,on_bad_lines='skip')\n",
        "\n",
        "training_sentences = train_dataset[1]\n",
        "testing_sentences = test_dataset[1]\n",
        "training_labels = train_dataset[0]\n",
        "testing_labels = test_dataset[0]\n",
        "\n",
        "# Make labels into numpy arrays for use with the network later\n",
        "training_labels_final = np.array(list(map(lambda x: 0 if x == 'spam' else 1,training_labels)))\n",
        "testing_labels_final = np.array(list(map(lambda x: 0 if x == 'spam' else 1,testing_labels)))\n",
        "testing_labels_final"
      ]
    },
    {
      "cell_type": "markdown",
      "source": [
        "Tokenize the messages"
      ],
      "metadata": {
        "id": "NaPpWcb7XhHk"
      }
    },
    {
      "cell_type": "code",
      "execution_count": 51,
      "metadata": {
        "id": "g_h508FEClxO"
      },
      "outputs": [],
      "source": [
        "vocab_size = 1000\n",
        "embedding_dim = 16\n",
        "max_length = 100\n",
        "trunc_type='post'\n",
        "padding_type='post'\n",
        "oov_tok = \"<OOV>\"\n",
        "\n",
        "tokenizer = Tokenizer(num_words = vocab_size, oov_token=oov_tok)\n",
        "tokenizer.fit_on_texts(training_sentences)\n",
        "word_index = tokenizer.word_index\n",
        "sequences = tokenizer.texts_to_sequences(training_sentences)\n",
        "testing_sequences = tokenizer.texts_to_sequences(testing_sentences)"
      ]
    },
    {
      "cell_type": "markdown",
      "source": [
        "Padding the messages"
      ],
      "metadata": {
        "id": "STZd6FHSbTWm"
      }
    },
    {
      "cell_type": "code",
      "source": [
        "padded = pad_sequences(sequences,maxlen=max_length, padding=padding_type, \n",
        "                       truncating=trunc_type)\n",
        "\n",
        "testing_padded = pad_sequences(testing_sequences,maxlen=max_length, \n",
        "                               padding=padding_type, truncating=trunc_type)"
      ],
      "metadata": {
        "id": "4xkCTfAibYIL"
      },
      "execution_count": 52,
      "outputs": []
    },
    {
      "cell_type": "markdown",
      "source": [
        "Model"
      ],
      "metadata": {
        "id": "C47M0aPic9fc"
      }
    },
    {
      "cell_type": "code",
      "execution_count": 53,
      "metadata": {
        "id": "zOMKywn4zReN",
        "colab": {
          "base_uri": "https://localhost:8080/"
        },
        "outputId": "35ddae48-f85c-4846-f848-789cd34a9fc5"
      },
      "outputs": [
        {
          "output_type": "stream",
          "name": "stdout",
          "text": [
            "Model: \"sequential_1\"\n",
            "_________________________________________________________________\n",
            " Layer (type)                Output Shape              Param #   \n",
            "=================================================================\n",
            " embedding_1 (Embedding)     (None, 100, 16)           16000     \n",
            "                                                                 \n",
            " flatten_1 (Flatten)         (None, 1600)              0         \n",
            "                                                                 \n",
            " dense_2 (Dense)             (None, 6)                 9606      \n",
            "                                                                 \n",
            " dense_3 (Dense)             (None, 1)                 7         \n",
            "                                                                 \n",
            "=================================================================\n",
            "Total params: 25,613\n",
            "Trainable params: 25,613\n",
            "Non-trainable params: 0\n",
            "_________________________________________________________________\n"
          ]
        }
      ],
      "source": [
        "model = tf.keras.Sequential([\n",
        "    tf.keras.layers.Embedding(vocab_size, embedding_dim, input_length=max_length),\n",
        "    tf.keras.layers.Flatten(),\n",
        "    tf.keras.layers.Dense(6, activation='relu'),\n",
        "    tf.keras.layers.Dense(1, activation='sigmoid')\n",
        "])\n",
        "model.compile(loss='binary_crossentropy',optimizer='adam',metrics=['accuracy'])\n",
        "model.summary()"
      ]
    },
    {
      "cell_type": "markdown",
      "source": [
        "Train model"
      ],
      "metadata": {
        "id": "bx0B68QrrzD1"
      }
    },
    {
      "cell_type": "code",
      "source": [
        "num_epochs = 20\n",
        "history=model.fit(padded, training_labels_final, epochs=num_epochs, validation_data=(testing_padded, testing_labels_final))"
      ],
      "metadata": {
        "colab": {
          "base_uri": "https://localhost:8080/"
        },
        "id": "Og1V3_FUdGbx",
        "outputId": "58df1355-3d58-430f-e641-0558aa4cc31b"
      },
      "execution_count": 54,
      "outputs": [
        {
          "output_type": "stream",
          "name": "stdout",
          "text": [
            "Epoch 1/20\n",
            "131/131 [==============================] - 2s 6ms/step - loss: 0.4386 - accuracy: 0.8591 - val_loss: 0.3075 - val_accuracy: 0.8658\n",
            "Epoch 2/20\n",
            "131/131 [==============================] - 1s 6ms/step - loss: 0.2280 - accuracy: 0.8655 - val_loss: 0.1748 - val_accuracy: 0.8660\n",
            "Epoch 3/20\n",
            "131/131 [==============================] - 1s 4ms/step - loss: 0.1611 - accuracy: 0.8911 - val_loss: 0.1468 - val_accuracy: 0.9684\n",
            "Epoch 4/20\n",
            "131/131 [==============================] - 1s 8ms/step - loss: 0.1393 - accuracy: 0.9708 - val_loss: 0.1293 - val_accuracy: 0.9780\n",
            "Epoch 5/20\n",
            "131/131 [==============================] - 1s 11ms/step - loss: 0.1243 - accuracy: 0.9792 - val_loss: 0.1173 - val_accuracy: 0.9797\n",
            "Epoch 6/20\n",
            "131/131 [==============================] - 1s 10ms/step - loss: 0.1132 - accuracy: 0.9816 - val_loss: 0.1063 - val_accuracy: 0.9873\n",
            "Epoch 7/20\n",
            "131/131 [==============================] - 1s 11ms/step - loss: 0.1033 - accuracy: 0.9856 - val_loss: 0.0971 - val_accuracy: 0.9878\n",
            "Epoch 8/20\n",
            "131/131 [==============================] - 1s 10ms/step - loss: 0.0655 - accuracy: 0.9883 - val_loss: 0.0268 - val_accuracy: 0.9923\n",
            "Epoch 9/20\n",
            "131/131 [==============================] - 1s 11ms/step - loss: 0.0248 - accuracy: 0.9914 - val_loss: 0.0206 - val_accuracy: 0.9940\n",
            "Epoch 10/20\n",
            "131/131 [==============================] - 1s 9ms/step - loss: 0.0183 - accuracy: 0.9943 - val_loss: 0.0145 - val_accuracy: 0.9964\n",
            "Epoch 11/20\n",
            "131/131 [==============================] - 1s 8ms/step - loss: 0.0141 - accuracy: 0.9971 - val_loss: 0.0109 - val_accuracy: 0.9981\n",
            "Epoch 12/20\n",
            "131/131 [==============================] - 1s 11ms/step - loss: 0.0111 - accuracy: 0.9976 - val_loss: 0.0089 - val_accuracy: 0.9983\n",
            "Epoch 13/20\n",
            "131/131 [==============================] - 1s 11ms/step - loss: 0.0090 - accuracy: 0.9983 - val_loss: 0.0076 - val_accuracy: 0.9990\n",
            "Epoch 14/20\n",
            "131/131 [==============================] - 1s 10ms/step - loss: 0.0077 - accuracy: 0.9988 - val_loss: 0.0066 - val_accuracy: 0.9993\n",
            "Epoch 15/20\n",
            "131/131 [==============================] - 1s 11ms/step - loss: 0.0067 - accuracy: 0.9990 - val_loss: 0.0059 - val_accuracy: 0.9993\n",
            "Epoch 16/20\n",
            "131/131 [==============================] - 1s 11ms/step - loss: 0.0060 - accuracy: 0.9993 - val_loss: 0.0052 - val_accuracy: 0.9993\n",
            "Epoch 17/20\n",
            "131/131 [==============================] - 1s 9ms/step - loss: 0.0053 - accuracy: 0.9993 - val_loss: 0.0046 - val_accuracy: 0.9993\n",
            "Epoch 18/20\n",
            "131/131 [==============================] - 1s 8ms/step - loss: 0.0047 - accuracy: 0.9995 - val_loss: 0.0042 - val_accuracy: 0.9993\n",
            "Epoch 19/20\n",
            "131/131 [==============================] - 1s 9ms/step - loss: 0.0043 - accuracy: 0.9993 - val_loss: 0.0040 - val_accuracy: 0.9995\n",
            "Epoch 20/20\n",
            "131/131 [==============================] - 2s 13ms/step - loss: 0.0040 - accuracy: 0.9995 - val_loss: 0.0036 - val_accuracy: 0.9995\n"
          ]
        }
      ]
    },
    {
      "cell_type": "code",
      "execution_count": 55,
      "metadata": {
        "id": "J9tD9yACG6M9",
        "colab": {
          "base_uri": "https://localhost:8080/"
        },
        "outputId": "c9a0b8a7-0558-4ca0-8e5a-c0646f367e9a"
      },
      "outputs": [
        {
          "output_type": "stream",
          "name": "stdout",
          "text": [
            "1/1 [==============================] - 0s 109ms/step\n",
            "[array([0.9998878], dtype=float32), 'ham']\n"
          ]
        }
      ],
      "source": [
        "# function to predict messages based on model\n",
        "# (should return list containing prediction and label, ex. [0.008318834938108921, 'ham'])\n",
        "def predict_message(pred_text):\n",
        "  prediction = []\n",
        "  prediction.append(pred_text)\n",
        "  seq1 = tokenizer.texts_to_sequences(prediction)\n",
        "  pad2 = pad_sequences(seq1, padding=padding_type, maxlen=max_length)\n",
        "  classes2 = model.predict(pad2)\n",
        "  if (classes2[0]>=0.5):\n",
        "    ans = [classes2[0],'ham']\n",
        "  else:\n",
        "    ans = [classes2[0],'spam']\n",
        "  return ans\n",
        "\n",
        "pred_text = \"how are you doing today\"\n",
        "\n",
        "prediction = predict_message(pred_text)\n",
        "print(prediction)"
      ]
    },
    {
      "cell_type": "code",
      "execution_count": 56,
      "metadata": {
        "id": "Dxotov85SjsC",
        "colab": {
          "base_uri": "https://localhost:8080/"
        },
        "outputId": "93f34e39-2ca6-41d5-8cc7-6e02faafa420"
      },
      "outputs": [
        {
          "output_type": "stream",
          "name": "stdout",
          "text": [
            "1/1 [==============================] - 0s 42ms/step\n",
            "1/1 [==============================] - 0s 43ms/step\n",
            "1/1 [==============================] - 0s 65ms/step\n",
            "1/1 [==============================] - 0s 52ms/step\n",
            "1/1 [==============================] - 0s 31ms/step\n",
            "1/1 [==============================] - 0s 45ms/step\n",
            "1/1 [==============================] - 0s 42ms/step\n",
            "You passed the challenge. Great job!\n"
          ]
        }
      ],
      "source": [
        "# Run this cell to test your function and model. Do not modify contents.\n",
        "def test_predictions():\n",
        "  test_messages = [\"how are you doing today\",\n",
        "                   \"sale today! to stop texts call 98912460324\",\n",
        "                   \"i dont want to go. can we try it a different day? available sat\",\n",
        "                   \"our new mobile video service is live. just install on your phone to start watching.\",\n",
        "                   \"you have won £1000 cash! call to claim your prize.\",\n",
        "                   \"i'll bring it tomorrow. don't forget the milk.\",\n",
        "                   \"wow, is your arm alright. that happened to me one time too\"\n",
        "                  ]\n",
        "\n",
        "  test_answers = [\"ham\", \"spam\", \"ham\", \"spam\", \"spam\", \"ham\", \"ham\"]\n",
        "  passed = True\n",
        "\n",
        "  for msg, ans in zip(test_messages, test_answers):\n",
        "    prediction = predict_message(msg)\n",
        "    if prediction[1] != ans:\n",
        "      passed = False\n",
        "\n",
        "  if passed:\n",
        "    print(\"You passed the challenge. Great job!\")\n",
        "  else:\n",
        "    print(\"You haven't passed yet. Keep trying.\")\n",
        "\n",
        "test_predictions()\n"
      ]
    }
  ],
  "metadata": {
    "colab": {
      "collapsed_sections": [],
      "name": "fcc_sms_text_classification.ipynb",
      "provenance": []
    },
    "kernelspec": {
      "display_name": "Python 3",
      "name": "python3"
    },
    "language_info": {}
  },
  "nbformat": 4,
  "nbformat_minor": 0
}